{
  "cells": [
    {
      "cell_type": "code",
      "execution_count": null,
      "metadata": {
        "id": "SxKD2KGP5XP5"
      },
      "outputs": [],
      "source": [
        "# Install the required packages\n",
        "\n",
        "!pip install eland elasticsearch\n",
        "!pip install elasticsearch\n",
        "!pip install -qU elasticsearch sentence-transformers==2.7.0"
      ]
    },
    {
      "cell_type": "code",
      "execution_count": null,
      "metadata": {
        "id": "ugOJB-vh5mBc"
      },
      "outputs": [],
      "source": [
        "# Import necessary libraries\n",
        "\n",
        "from elasticsearch import (Elasticsearch,helpers)\n",
        "from sentence_transformers import SentenceTransformer\n",
        "import subprocess"
      ]
    },
    {
      "cell_type": "code",
      "execution_count": null,
      "metadata": {
        "id": "CwhPitSx5mHI"
      },
      "outputs": [],
      "source": [
        "# Here we deploy BERT model \"sentence-transformers__all-minilm-l6-v2\" as example\n",
        "\n",
        "\n",
        "# Elastic Cloud connection details\n",
        "ELASTIC_CLOUD_ID = \"elastic-cloud-id\"\n",
        "ELASTIC_USERNAME = \"elastic\"  # Default admin username\n",
        "ELASTIC_PASSWORD = \"elastic-pass\"\n",
        "\n",
        "# Model details for deployment\n",
        "MODEL_ID = \"sentence-transformers__all-minilm-l6-v2\"  # Unique model ID in Elasticsearch\n",
        "HUB_MODEL_ID = \"sentence-transformers/all-MiniLM-L6-v2\"  # Model from Hugging Face Hub\n",
        "\n",
        "# Command to import and deploy the model into Elasticsearch for text embedding tasks\n",
        "command = f\"\"\"\n",
        "eland_import_hub_model \\\n",
        "    --cloud-id {ELASTIC_CLOUD_ID} \\  # Specify Elastic Cloud ID\n",
        "    --es-username {ELASTIC_USERNAME} \\  # Elasticsearch admin username\n",
        "    --es-password {ELASTIC_PASSWORD} \\  # Elasticsearch admin password\n",
        "    --hub-model-id {HUB_MODEL_ID} \\  # Model ID from Hugging Face\n",
        "    --task-type text_embedding \\  # Task type the model is used for\n",
        "    --clear-previous \\  # Clear any previously deployed model with the same ID\n",
        "    --start  # Start the deployment process\n",
        "\"\"\"\n",
        "\n",
        "# Run the command to deploy the model\n",
        "subprocess.run(command, shell=True, check=True)\n",
        "\n",
        "# Note:\n",
        "# - You can replace `HUB_MODEL_ID` with another Hugging Face model ID to deploy a different model.\n",
        "# - Ensure the chosen model supports the required task type (e.g., text_embedding).\n",
        "# - This script deploys the model into Elastic Cloud.\n"
      ]
    }
  ],
  "metadata": {
    "colab": {
      "provenance": []
    },
    "kernelspec": {
      "display_name": "Python 3",
      "name": "python3"
    },
    "language_info": {
      "name": "python"
    }
  },
  "nbformat": 4,
  "nbformat_minor": 0
}
